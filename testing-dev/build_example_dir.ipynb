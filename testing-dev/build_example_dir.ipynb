{
 "cells": [
  {
   "cell_type": "markdown",
   "metadata": {},
   "source": [
    "# Build Example Directory\n",
    "\n",
    "This project is a search engine that will find lost files. To test the code, I will need a directory with many files within. This notebook populates a directory of empty subdirectories."
   ]
  },
  {
   "cell_type": "markdown",
   "metadata": {},
   "source": [
    "## Get subdirectories inside of the dir"
   ]
  },
  {
   "cell_type": "code",
   "execution_count": 25,
   "metadata": {},
   "outputs": [
    {
     "name": "stdout",
     "output_type": "stream",
     "text": [
      "c:\\Users\\hunte\\OneDrive\\Documents\\Coding Projects\\Imprecision-Search\n",
      "['Build-Corpus.py', 'build_example_dir.ipynb', 'example_directory']\n",
      "\n",
      "Empty Example Dir:  c:\\Users\\hunte\\OneDrive\\Documents\\Coding Projects\\Imprecision-Search\\example_directory\n"
     ]
    }
   ],
   "source": [
    "import os\n",
    "\n",
    "print(os.getcwd())\n",
    "print(os.listdir())\n",
    "\n",
    "example_dir = os.path.join(os.getcwd(), os.listdir()[2])\n",
    "print(\"\\nEmpty Example Dir: \", example_dir)"
   ]
  },
  {
   "cell_type": "code",
   "execution_count": 63,
   "metadata": {},
   "outputs": [
    {
     "name": "stdout",
     "output_type": "stream",
     "text": [
      "\n",
      "Subdirectories:  ['c:\\\\Users\\\\hunte\\\\OneDrive\\\\Documents\\\\Coding Projects\\\\Imprecision-Search\\\\example_directory\\\\subdir', 'c:\\\\Users\\\\hunte\\\\OneDrive\\\\Documents\\\\Coding Projects\\\\Imprecision-Search\\\\example_directory\\\\subdir\\\\subdir-recursion-level-1']\n"
     ]
    }
   ],
   "source": [
    "import os\n",
    "\n",
    "def gather_subdirs(directory, subdir_list=None):\n",
    "    '''\n",
    "    This function recursively gathers all subdirectories of a \n",
    "    given directory. It returns a list of all subdirectories.\n",
    "    '''\n",
    "    # If no list is given, create a new list\n",
    "    if subdir_list is None:\n",
    "        subdir_list = []\n",
    "        \n",
    "    # Loop over all files and directories in the given directory\n",
    "    for name in os.listdir(directory):\n",
    "\n",
    "        # Create the full path to the file or directory\n",
    "        path = os.path.join(directory, name)\n",
    "\n",
    "        # If the path is a directory, append it to the list\n",
    "        if os.path.isdir(path):\n",
    "            subdir_list.append(path)\n",
    "\n",
    "            # Call the function recursively with the new path\n",
    "            gather_subdirs(path, subdir_list)\n",
    "            \n",
    "    return subdir_list\n",
    "\n",
    "\n",
    "\n",
    "# Call the function\n",
    "subdirs = gather_subdirs(example_dir)\n",
    "print(\"\\nSubdirectories: \", subdirs[:2])\n"
   ]
  },
  {
   "cell_type": "markdown",
   "metadata": {},
   "source": [
    "## Get Examples to Fill Dir With"
   ]
  },
  {
   "cell_type": "markdown",
   "metadata": {},
   "source": [
    "I am going to populate the subdirectories just attained with examples from the glue microsoft research paraphrase corpus"
   ]
  },
  {
   "cell_type": "code",
   "execution_count": 43,
   "metadata": {},
   "outputs": [
    {
     "data": {
      "text/plain": [
       "DatasetDict({\n",
       "    train: Dataset({\n",
       "        features: ['sentence1', 'sentence2', 'label', 'idx'],\n",
       "        num_rows: 3668\n",
       "    })\n",
       "    validation: Dataset({\n",
       "        features: ['sentence1', 'sentence2', 'label', 'idx'],\n",
       "        num_rows: 408\n",
       "    })\n",
       "    test: Dataset({\n",
       "        features: ['sentence1', 'sentence2', 'label', 'idx'],\n",
       "        num_rows: 1725\n",
       "    })\n",
       "})"
      ]
     },
     "execution_count": 43,
     "metadata": {},
     "output_type": "execute_result"
    }
   ],
   "source": [
    "from datasets import load_dataset\n",
    "\n",
    "# loading in the General Language Understanding Evaluation (GLUE) dataset\n",
    "# mrpc stands for Microsoft Research Paraphrase Corpus\n",
    "mrpc = load_dataset(\"glue\", \"mrpc\")\n",
    "\n",
    "mrpc"
   ]
  },
  {
   "cell_type": "code",
   "execution_count": 57,
   "metadata": {},
   "outputs": [
    {
     "data": {
      "text/plain": [
       "0    Amrozi accused his brother , whom he called \" ...\n",
       "1    Yucaipa owned Dominick 's before selling the c...\n",
       "2    They had published an advertisement on the Int...\n",
       "3    Around 0335 GMT , Tab shares were up 19 cents ...\n",
       "4    The stock rose $ 2.11 , or about 11 percent , ...\n",
       "dtype: object"
      ]
     },
     "execution_count": 57,
     "metadata": {},
     "output_type": "execute_result"
    }
   ],
   "source": [
    "import pandas as pd\n",
    "\n",
    "# Assuming `mrpc` is your DatasetDict object\n",
    "train_dataset = mrpc['train']\n",
    "\n",
    "# Convert the 'sentence1' column to a Pandas Series\n",
    "examples = pd.Series(train_dataset['sentence1'])\n",
    "\n",
    "# Show the first few entries\n",
    "examples.head()"
   ]
  },
  {
   "cell_type": "markdown",
   "metadata": {},
   "source": [
    "## Write a single example to txt file 3 times inside each dir"
   ]
  },
  {
   "cell_type": "code",
   "execution_count": 65,
   "metadata": {},
   "outputs": [
    {
     "name": "stdout",
     "output_type": "stream",
     "text": [
      "39\n"
     ]
    }
   ],
   "source": [
    "print(len(subdirs))\n",
    "\n",
    "#for all subdirs\n",
    "for i, subdir in enumerate(subdirs):\n",
    "    for j in range(3):\n",
    "        # print examples from examples series into txt file\n",
    "        with open(os.path.join(subdir, f\"document{i+j}.txt\"), \"w\") as f:\n",
    "            f.write(examples[i+j])"
   ]
  }
 ],
 "metadata": {
  "kernelspec": {
   "display_name": "Python 3",
   "language": "python",
   "name": "python3"
  },
  "language_info": {
   "codemirror_mode": {
    "name": "ipython",
    "version": 3
   },
   "file_extension": ".py",
   "mimetype": "text/x-python",
   "name": "python",
   "nbconvert_exporter": "python",
   "pygments_lexer": "ipython3",
   "version": "3.11.1"
  },
  "orig_nbformat": 4
 },
 "nbformat": 4,
 "nbformat_minor": 2
}
